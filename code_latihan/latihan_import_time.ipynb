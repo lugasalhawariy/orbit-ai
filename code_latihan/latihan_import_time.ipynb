{
 "cells": [
  {
   "cell_type": "code",
   "execution_count": 1,
   "metadata": {},
   "outputs": [],
   "source": [
    "import time"
   ]
  },
  {
   "cell_type": "code",
   "execution_count": 2,
   "metadata": {},
   "outputs": [
    {
     "name": "stdout",
     "output_type": "stream",
     "text": [
      "time:  Wed Mar 23 23:27:11 2022\n"
     ]
    }
   ],
   "source": [
    "print(\"time: \", time.ctime())"
   ]
  },
  {
   "cell_type": "code",
   "execution_count": 3,
   "metadata": {},
   "outputs": [
    {
     "name": "stdout",
     "output_type": "stream",
     "text": [
      "oke, tunggu 5 detik . . . .\n",
      "proses menunggu kelar\n"
     ]
    }
   ],
   "source": [
    "print('oke, tunggu 5 detik . . . .')\n",
    "time.sleep(5)\n",
    "print('proses menunggu kelar')"
   ]
  }
 ],
 "metadata": {
  "interpreter": {
   "hash": "c8c79adb46c5bda32071ea0bddb2e2ff7dfe993195895c8ef3cc9ed6cd2d3f8c"
  },
  "kernelspec": {
   "display_name": "Python 3.8.10 ('myenv': venv)",
   "language": "python",
   "name": "python3"
  },
  "language_info": {
   "codemirror_mode": {
    "name": "ipython",
    "version": 3
   },
   "file_extension": ".py",
   "mimetype": "text/x-python",
   "name": "python",
   "nbconvert_exporter": "python",
   "pygments_lexer": "ipython3",
   "version": "3.8.10"
  },
  "orig_nbformat": 4
 },
 "nbformat": 4,
 "nbformat_minor": 2
}
