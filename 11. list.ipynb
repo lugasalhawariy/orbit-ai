{
 "cells": [
  {
   "cell_type": "code",
   "execution_count": 1,
   "metadata": {},
   "outputs": [
    {
     "name": "stdout",
     "output_type": "stream",
     "text": [
      "['ayam', 'bebek', 'kambing']\n"
     ]
    }
   ],
   "source": [
    "# membuat list\n",
    "MyList = ['ayam', 'bebek', 'kambing']\n",
    "print(MyList)"
   ]
  },
  {
   "cell_type": "code",
   "execution_count": 2,
   "metadata": {},
   "outputs": [
    {
     "name": "stdout",
     "output_type": "stream",
     "text": [
      "bebek\n"
     ]
    }
   ],
   "source": [
    "# mengakses list\n",
    "MyList = ['ayam', 'bebek', 'kambing']\n",
    "# number array pertama\n",
    "print(MyList[1])"
   ]
  },
  {
   "cell_type": "code",
   "execution_count": 3,
   "metadata": {},
   "outputs": [
    {
     "name": "stdout",
     "output_type": "stream",
     "text": [
      "['ayam', 'bebek']\n"
     ]
    }
   ],
   "source": [
    "MyList = ['ayam', 'bebek', 'kambing']\n",
    "# ambil semua dari sebelum number array 2\n",
    "print(MyList[:2])"
   ]
  },
  {
   "cell_type": "code",
   "execution_count": 8,
   "metadata": {},
   "outputs": [
    {
     "name": "stdout",
     "output_type": "stream",
     "text": [
      "kambing\n"
     ]
    }
   ],
   "source": [
    "MyList = ['ayam', 'bebek', 'kambing']\n",
    "# -1 itu list paling belakang, mau mundur tinggal tambah nilainya jadi -2\n",
    "print(MyList[-1])"
   ]
  },
  {
   "cell_type": "code",
   "execution_count": 9,
   "metadata": {},
   "outputs": [
    {
     "name": "stdout",
     "output_type": "stream",
     "text": [
      "['ayam', 'bebek', 'kambing', 'Sapi']\n"
     ]
    }
   ],
   "source": [
    "# add list item\n",
    "# append()\n",
    "MyList = ['ayam', 'bebek', 'kambing']\n",
    "MyList.append('Sapi')\n",
    "print(MyList)"
   ]
  }
 ],
 "metadata": {
  "interpreter": {
   "hash": "c8c79adb46c5bda32071ea0bddb2e2ff7dfe993195895c8ef3cc9ed6cd2d3f8c"
  },
  "kernelspec": {
   "display_name": "Python 3.8.10 ('myenv': venv)",
   "language": "python",
   "name": "python3"
  },
  "language_info": {
   "codemirror_mode": {
    "name": "ipython",
    "version": 3
   },
   "file_extension": ".py",
   "mimetype": "text/x-python",
   "name": "python",
   "nbconvert_exporter": "python",
   "pygments_lexer": "ipython3",
   "version": "3.8.10"
  },
  "orig_nbformat": 4
 },
 "nbformat": 4,
 "nbformat_minor": 2
}
