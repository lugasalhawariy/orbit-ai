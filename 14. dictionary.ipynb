{
 "cells": [
  {
   "cell_type": "markdown",
   "metadata": {},
   "source": [
    "Dictionary adalah tipe data yang di dalamnya memiliki key dan nilai (mirip JSON)"
   ]
  },
  {
   "cell_type": "code",
   "execution_count": 1,
   "metadata": {},
   "outputs": [
    {
     "name": "stdout",
     "output_type": "stream",
     "text": [
      "{'brand': 'Orbit', 'model': 'Edutech', 'year': 2021}\n"
     ]
    }
   ],
   "source": [
    "kamus = {\n",
    "    \"brand\": \"Orbit\",\n",
    "    \"model\": \"Edutech\",\n",
    "    \"year\": 2021\n",
    "}\n",
    "print(kamus)"
   ]
  },
  {
   "cell_type": "code",
   "execution_count": 2,
   "metadata": {},
   "outputs": [
    {
     "name": "stdout",
     "output_type": "stream",
     "text": [
      "Zahra\n"
     ]
    }
   ],
   "source": [
    "dict = {'Nama': 'Zahra', 'Umur': 21, 'Jurusan': 'Ilmu Komputer'}\n",
    "print(dict['Nama'])"
   ]
  },
  {
   "cell_type": "code",
   "execution_count": 4,
   "metadata": {},
   "outputs": [
    {
     "name": "stdout",
     "output_type": "stream",
     "text": [
      "{'Nama': 'Lugas', 'Umur': 21, 'Jurusan': 'Ilmu Komputer', 'Asal': 'Karawang'}\n"
     ]
    }
   ],
   "source": [
    "# mengubah nilai\n",
    "dict['Nama'] = \"Lugas\"\n",
    "# menambah data\n",
    "dict['Asal'] = \"Karawang\"\n",
    "\n",
    "print(dict)"
   ]
  }
 ],
 "metadata": {
  "interpreter": {
   "hash": "c8c79adb46c5bda32071ea0bddb2e2ff7dfe993195895c8ef3cc9ed6cd2d3f8c"
  },
  "kernelspec": {
   "display_name": "Python 3.8.10 ('myenv': venv)",
   "language": "python",
   "name": "python3"
  },
  "language_info": {
   "codemirror_mode": {
    "name": "ipython",
    "version": 3
   },
   "file_extension": ".py",
   "mimetype": "text/x-python",
   "name": "python",
   "nbconvert_exporter": "python",
   "pygments_lexer": "ipython3",
   "version": "3.8.10"
  },
  "orig_nbformat": 4
 },
 "nbformat": 4,
 "nbformat_minor": 2
}
