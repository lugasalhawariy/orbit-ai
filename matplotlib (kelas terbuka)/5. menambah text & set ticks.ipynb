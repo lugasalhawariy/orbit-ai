{
 "cells": [
  {
   "cell_type": "code",
   "execution_count": 2,
   "metadata": {},
   "outputs": [],
   "source": [
    "import matplotlib.pyplot as plt\n",
    "import numpy as np"
   ]
  },
  {
   "cell_type": "code",
   "execution_count": 3,
   "metadata": {},
   "outputs": [],
   "source": [
    "# membuat data\n",
    "def sinusGenerator(amplitudo, frekuensi, waktu, theta):\n",
    "    t = np.arange(0, waktu, 0.05)\n",
    "    y = amplitudo * np.sin(2 * frekuensi * t + np.deg2rad(theta))\n",
    "    return t,y"
   ]
  },
  {
   "cell_type": "code",
   "execution_count": 4,
   "metadata": {},
   "outputs": [],
   "source": [
    "t,y = sinusGenerator(1,1,4,0)"
   ]
  },
  {
   "cell_type": "code",
   "execution_count": 5,
   "metadata": {},
   "outputs": [
    {
     "data": {
      "text/plain": [
       "([<matplotlib.axis.XTick at 0x7efe8643de80>,\n",
       "  <matplotlib.axis.XTick at 0x7efe8643de50>,\n",
       "  <matplotlib.axis.XTick at 0x7efe8642fb80>,\n",
       "  <matplotlib.axis.XTick at 0x7efe843a6760>,\n",
       "  <matplotlib.axis.XTick at 0x7efe843b1040>],\n",
       " [Text(0, 0, '${0}^o$'),\n",
       "  Text(90, 0, '${90}^o$'),\n",
       "  Text(180, 0, '${180}^o$'),\n",
       "  Text(270, 0, '${270}^o$'),\n",
       "  Text(360, 0, '${360}^o$')])"
      ]
     },
     "execution_count": 5,
     "metadata": {},
     "output_type": "execute_result"
    },
    {
     "data": {
      "image/png": "[encoded data removed]",
      "text/plain": [
       "<Figure size 432x288 with 1 Axes>"
      ]
     },
     "metadata": {
      "needs_background": "light"
     },
     "output_type": "display_data"
    }
   ],
   "source": [
    "plt.plot(t, y)\n",
    "# menambah text\n",
    "plt.text(2, 0.5, r'$ y = \\mathcal{A}.sin(2 \\omega t) $')\n",
    "plt.text(2, 0.4, r'$ \\mathcal{A} = 1cm, \\omega = 1Hz $')\n",
    "# setting ticks\n",
    "plt.yticks([-1, 0, 1])\n",
    "plt.xticks([0, 90, 180, 270, 360], [r'${0}^o$', r'${90}^o$', r'${180}^o$', r'${270}^o$', r'${360}^o$'])"
   ]
  }
 ],
 "metadata": {
  "interpreter": {
   "hash": "c8c79adb46c5bda32071ea0bddb2e2ff7dfe993195895c8ef3cc9ed6cd2d3f8c"
  },
  "kernelspec": {
   "display_name": "Python 3.8.10 ('myenv': venv)",
   "language": "python",
   "name": "python3"
  },
  "language_info": {
   "codemirror_mode": {
    "name": "ipython",
    "version": 3
   },
   "file_extension": ".py",
   "mimetype": "text/x-python",
   "name": "python",
   "nbconvert_exporter": "python",
   "pygments_lexer": "ipython3",
   "version": "3.8.10"
  },
  "orig_nbformat": 4
 },
 "nbformat": 4,
 "nbformat_minor": 2
}
