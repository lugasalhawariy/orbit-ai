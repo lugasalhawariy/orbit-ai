{
 "cells": [
  {
   "cell_type": "code",
   "execution_count": 1,
   "metadata": {},
   "outputs": [
    {
     "name": "stdout",
     "output_type": "stream",
     "text": [
      "{'Ana', 'Ani', 'Kevin', 'Dicky', 'Anton'}\n",
      "{'mangga', 'apel'}\n",
      "{True, 5, 'manusia', 'hewan', ('A', 'B')}\n"
     ]
    }
   ],
   "source": [
    "# menggunakan kurung kurawal\n",
    "himpunan_siswa = {'Ana', 'Ani', 'Anton', 'Dicky', 'Kevin'}\n",
    "print(himpunan_siswa)\n",
    "\n",
    "# mengkonversi list ke dalam set\n",
    "himpunan_buah = set(['mangga', 'apel'])\n",
    "print(himpunan_buah)\n",
    "\n",
    "# set dengan tipe data yang berbeda-beda\n",
    "set_campuran = {'manusia', 'hewan', 5, True, ('A', 'B')}\n",
    "print(set_campuran)"
   ]
  },
  {
   "cell_type": "code",
   "execution_count": 3,
   "metadata": {},
   "outputs": [
    {
     "name": "stdout",
     "output_type": "stream",
     "text": [
      "{'a'}\n"
     ]
    }
   ],
   "source": [
    "set_ku = {'a'}\n",
    "print(set_ku)"
   ]
  }
 ],
 "metadata": {
  "interpreter": {
   "hash": "c8c79adb46c5bda32071ea0bddb2e2ff7dfe993195895c8ef3cc9ed6cd2d3f8c"
  },
  "kernelspec": {
   "display_name": "Python 3.8.10 ('myenv': venv)",
   "language": "python",
   "name": "python3"
  },
  "language_info": {
   "codemirror_mode": {
    "name": "ipython",
    "version": 3
   },
   "file_extension": ".py",
   "mimetype": "text/x-python",
   "name": "python",
   "nbconvert_exporter": "python",
   "pygments_lexer": "ipython3",
   "version": "3.8.10"
  },
  "orig_nbformat": 4
 },
 "nbformat": 4,
 "nbformat_minor": 2
}
