{
 "cells": [
  {
   "cell_type": "code",
   "execution_count": 1,
   "metadata": {},
   "outputs": [
    {
     "name": "stdout",
     "output_type": "stream",
     "text": [
      "{'Ana', 'Ani', 'Kevin', 'Dicky', 'Anton'}\n",
      "{'mangga', 'apel'}\n",
      "{True, 5, 'manusia', 'hewan', ('A', 'B')}\n"
     ]
    }
   ],
   "source": [
    "# menggunakan kurung kurawal\n",
    "himpunan_siswa = {'Ana', 'Ani', 'Anton', 'Dicky', 'Kevin'}\n",
    "print(himpunan_siswa)\n",
    "\n",
    "# mengkonversi list ke dalam set\n",
    "himpunan_buah = set(['mangga', 'apel'])\n",
    "print(himpunan_buah)\n",
    "\n",
    "# set dengan tipe data yang berbeda-beda\n",
    "set_campuran = {'manusia', 'hewan', 5, True, ('A', 'B')}\n",
    "print(set_campuran)"
   ]
  },
  {
   "cell_type": "code",
   "execution_count": 2,
   "metadata": {},
   "outputs": [
    {
     "ename": "TypeError",
     "evalue": "'set' object is not subscriptable",
     "output_type": "error",
     "traceback": [
      "\u001b[0;31m---------------------------------------------------------------------------\u001b[0m",
      "\u001b[0;31mTypeError\u001b[0m                                 Traceback (most recent call last)",
      "\u001b[1;32m/home/lugas/Python/student_independen/12. set.ipynb Cell 2'\u001b[0m in \u001b[0;36m<module>\u001b[0;34m\u001b[0m\n\u001b[1;32m      <a href='vscode-notebook-cell://wsl%2Bubuntu-20.04/home/lugas/Python/student_independen/12.%20set.ipynb#ch0000001vscode-remote?line=0'>1</a>\u001b[0m set_ku \u001b[39m=\u001b[39m {\u001b[39m'\u001b[39m\u001b[39ma\u001b[39m\u001b[39m'\u001b[39m}\n\u001b[0;32m----> <a href='vscode-notebook-cell://wsl%2Bubuntu-20.04/home/lugas/Python/student_independen/12.%20set.ipynb#ch0000001vscode-remote?line=1'>2</a>\u001b[0m \u001b[39mprint\u001b[39m(set_ku[\u001b[39m0\u001b[39;49m])\n",
      "\u001b[0;31mTypeError\u001b[0m: 'set' object is not subscriptable"
     ]
    }
   ],
   "source": [
    "set_ku = {'a'}\n",
    "print(set_ku[0])"
   ]
  }
 ],
 "metadata": {
  "interpreter": {
   "hash": "c8c79adb46c5bda32071ea0bddb2e2ff7dfe993195895c8ef3cc9ed6cd2d3f8c"
  },
  "kernelspec": {
   "display_name": "Python 3.8.10 ('myenv': venv)",
   "language": "python",
   "name": "python3"
  },
  "language_info": {
   "codemirror_mode": {
    "name": "ipython",
    "version": 3
   },
   "file_extension": ".py",
   "mimetype": "text/x-python",
   "name": "python",
   "nbconvert_exporter": "python",
   "pygments_lexer": "ipython3",
   "version": "3.8.10"
  },
  "orig_nbformat": 4
 },
 "nbformat": 4,
 "nbformat_minor": 2
}
