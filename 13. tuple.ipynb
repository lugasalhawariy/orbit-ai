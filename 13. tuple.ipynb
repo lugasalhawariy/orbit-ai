{
 "cells": [
  {
   "cell_type": "code",
   "execution_count": 1,
   "metadata": {},
   "outputs": [
    {
     "data": {
      "text/plain": [
       "(12, 13, 14)"
      ]
     },
     "execution_count": 1,
     "metadata": {},
     "output_type": "execute_result"
    }
   ],
   "source": [
    "t = 12, 13, 14\n",
    "t"
   ]
  },
  {
   "cell_type": "code",
   "execution_count": 2,
   "metadata": {},
   "outputs": [
    {
     "name": "stdout",
     "output_type": "stream",
     "text": [
      "(12, 13, 14)\n"
     ]
    }
   ],
   "source": [
    "r = (12, 13, 14)\n",
    "print(r)"
   ]
  },
  {
   "cell_type": "code",
   "execution_count": 3,
   "metadata": {},
   "outputs": [
    {
     "data": {
      "text/plain": [
       "('Andi', 'Ana', 'Andi')"
      ]
     },
     "execution_count": 3,
     "metadata": {},
     "output_type": "execute_result"
    }
   ],
   "source": [
    "z = (\"Andi\", \"Ana\", \"Andi\")\n",
    "z"
   ]
  },
  {
   "cell_type": "code",
   "execution_count": 4,
   "metadata": {},
   "outputs": [
    {
     "name": "stdout",
     "output_type": "stream",
     "text": [
      "3\n"
     ]
    }
   ],
   "source": [
    "# hitung panjang dari tuple\n",
    "print(len(z))"
   ]
  },
  {
   "cell_type": "code",
   "execution_count": 6,
   "metadata": {},
   "outputs": [
    {
     "name": "stdout",
     "output_type": "stream",
     "text": [
      "<class 'tuple'>\n"
     ]
    }
   ],
   "source": [
    "# agar program membaca tipe data tuple harus ditambah koma \",\"\n",
    "var_tup = (\"Mangga\",)\n",
    "print(type(var_tup))"
   ]
  },
  {
   "cell_type": "code",
   "execution_count": 7,
   "metadata": {},
   "outputs": [
    {
     "name": "stdout",
     "output_type": "stream",
     "text": [
      "('o', 'r', 'b', 'i', 't')\n"
     ]
    }
   ],
   "source": [
    "# mengakses tuple\n",
    "q = tuple('orbit')\n",
    "print(q)"
   ]
  },
  {
   "cell_type": "code",
   "execution_count": 8,
   "metadata": {},
   "outputs": [
    {
     "ename": "TypeError",
     "evalue": "'tuple' object does not support item assignment",
     "output_type": "error",
     "traceback": [
      "\u001b[0;31m---------------------------------------------------------------------------\u001b[0m",
      "\u001b[0;31mTypeError\u001b[0m                                 Traceback (most recent call last)",
      "\u001b[1;32m/home/lugas/Python/student_independen/13. tuple.ipynb Cell 7'\u001b[0m in \u001b[0;36m<module>\u001b[0;34m\u001b[0m\n\u001b[1;32m      <a href='vscode-notebook-cell://wsl%2Bubuntu-20.04/home/lugas/Python/student_independen/13.%20tuple.ipynb#ch0000006vscode-remote?line=0'>1</a>\u001b[0m \u001b[39m# nilai tuple tidak dapat diubah (bersifat immutable)\u001b[39;00m\n\u001b[0;32m----> <a href='vscode-notebook-cell://wsl%2Bubuntu-20.04/home/lugas/Python/student_independen/13.%20tuple.ipynb#ch0000006vscode-remote?line=1'>2</a>\u001b[0m q[\u001b[39m3\u001b[39m] \u001b[39m=\u001b[39m \u001b[39m'\u001b[39m\u001b[39ma\u001b[39m\u001b[39m'\u001b[39m\n\u001b[1;32m      <a href='vscode-notebook-cell://wsl%2Bubuntu-20.04/home/lugas/Python/student_independen/13.%20tuple.ipynb#ch0000006vscode-remote?line=2'>3</a>\u001b[0m \u001b[39mprint\u001b[39m(q)\n",
      "\u001b[0;31mTypeError\u001b[0m: 'tuple' object does not support item assignment"
     ]
    }
   ],
   "source": [
    "# nilai tuple tidak dapat diubah (bersifat immutable)\n",
    "q[3] = 'a'\n",
    "print(q)\n"
   ]
  },
  {
   "cell_type": "code",
   "execution_count": 11,
   "metadata": {},
   "outputs": [
    {
     "name": "stdout",
     "output_type": "stream",
     "text": [
      "('o', 'r', 'b', 'i', 't', 'o', 'r', 'b', 'i', 't', 'o', 'r', 'b', 'i', 't')\n"
     ]
    }
   ],
   "source": [
    "# perkalian pada tuple seperti pengulangan\n",
    "c = q * 3\n",
    "print(c)"
   ]
  },
  {
   "cell_type": "code",
   "execution_count": 12,
   "metadata": {},
   "outputs": [
    {
     "name": "stdout",
     "output_type": "stream",
     "text": [
      "('o', 'r', 'b', 'i', 't', 'o', 'r', 'b', 'i', 't', 'o', 'r', 'b', 'i', 't', 'o', 'r', 'b', 'i', 't')\n"
     ]
    }
   ],
   "source": [
    "# penjumlahan pada tuple seperti penggabungan (namun nilainya harus sesama tuple)\n",
    "d = q + c\n",
    "print(d)"
   ]
  },
  {
   "cell_type": "code",
   "execution_count": 13,
   "metadata": {},
   "outputs": [
    {
     "name": "stdout",
     "output_type": "stream",
     "text": [
      "(1, 2, 3, 4, 10, 11, 12, 13)\n"
     ]
    }
   ],
   "source": [
    "# contoh lain penjumlahan\n",
    "tuple_1 = (1, 2, 3, 4)\n",
    "tuple_2 = (10, 11, 12, 13)\n",
    "\n",
    "total = tuple_1 + tuple_2\n",
    "print(total)"
   ]
  }
 ],
 "metadata": {
  "interpreter": {
   "hash": "c8c79adb46c5bda32071ea0bddb2e2ff7dfe993195895c8ef3cc9ed6cd2d3f8c"
  },
  "kernelspec": {
   "display_name": "Python 3.8.10 ('myenv': venv)",
   "language": "python",
   "name": "python3"
  },
  "language_info": {
   "codemirror_mode": {
    "name": "ipython",
    "version": 3
   },
   "file_extension": ".py",
   "mimetype": "text/x-python",
   "name": "python",
   "nbconvert_exporter": "python",
   "pygments_lexer": "ipython3",
   "version": "3.8.10"
  },
  "orig_nbformat": 4
 },
 "nbformat": 4,
 "nbformat_minor": 2
}
